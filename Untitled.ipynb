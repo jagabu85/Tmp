{
 "cells": [
  {
   "cell_type": "code",
   "execution_count": 28,
   "metadata": {},
   "outputs": [],
   "source": [
    "import numpy as np\n",
    "import matplotlib.pyplot as plt\n",
    "# F means force\n",
    "length_b = 0.5\n",
    "length_c = 1\n",
    "force_c = 1\n",
    "\n",
    "num_steps = 20\n",
    "angle = np.linspace(0,3.14,num_steps)\n",
    "moment_b = np.zeros(num_steps)\n",
    "force_y1 = np.zeros(num_steps)\n",
    "\n",
    "for i, alpha in enumerate(angle):\n",
    "    moment_b[i] = force_c * np.cos (alpha) * length_c\n",
    "    force_y1[i] = moment_b[i] / length_b\n",
    "\n"
   ]
  },
  {
   "cell_type": "code",
   "execution_count": null,
   "metadata": {},
   "outputs": [],
   "source": []
  },
  {
   "cell_type": "code",
   "execution_count": null,
   "metadata": {},
   "outputs": [],
   "source": []
  }
 ],
 "metadata": {
  "kernelspec": {
   "display_name": "Python 3",
   "language": "python",
   "name": "python3"
  },
  "language_info": {
   "codemirror_mode": {
    "name": "ipython",
    "version": 3
   },
   "file_extension": ".py",
   "mimetype": "text/x-python",
   "name": "python",
   "nbconvert_exporter": "python",
   "pygments_lexer": "ipython3",
   "version": "3.8.1"
  }
 },
 "nbformat": 4,
 "nbformat_minor": 4
}
