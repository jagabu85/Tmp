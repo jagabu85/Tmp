{
 "cells": [
  {
   "cell_type": "code",
   "execution_count": 162,
   "metadata": {},
   "outputs": [
    {
     "name": "stdout",
     "output_type": "stream",
     "text": [
      "[[-0.00000000e+00  6.00000000e+00]\n",
      " [ 6.28781447e-02  5.95324845e+00]\n",
      " [ 1.08749039e-01  5.81738134e+00]\n",
      " [ 1.37177162e-01  5.60046306e+00]\n",
      " [ 1.49149718e-01  5.31213778e+00]\n",
      " [ 1.46758688e-01  4.96319042e+00]\n",
      " [ 1.32858955e-01  4.56517342e+00]\n",
      " [ 1.10733128e-01  4.13008890e+00]\n",
      " [ 8.37838520e-02  3.67011476e+00]\n",
      " [ 5.52664456e-02  3.19736354e+00]\n",
      " [ 2.80688825e-02  2.72366572e+00]\n",
      " [ 4.54190340e-03  2.26037128e+00]\n",
      " [-1.36207761e-02  1.81816638e+00]\n",
      " [-2.54541149e-02  1.40690389e+00]\n",
      " [-3.07484783e-02  1.03544829e+00]\n",
      " [-3.00355316e-02  7.11536735e-01]\n",
      " [-2.45379674e-02  4.41658404e-01]\n",
      " [-1.60881614e-02  2.30955120e-01]\n",
      " [-7.02115120e-03  8.31456498e-02]\n",
      " [-4.75410714e-05  4.76130986e-04]]\n"
     ]
    },
    {
     "data": {
      "image/png": "[encoded data removed]",
      "text/plain": [
       "<Figure size 432x288 with 1 Axes>"
      ]
     },
     "metadata": {
      "needs_background": "light"
     },
     "output_type": "display_data"
    }
   ],
   "source": [
    "import numpy as np\n",
    "import matplotlib.pyplot as plt\n",
    "# F means force\n",
    "length_b = 0.5\n",
    "length_c = 3\n",
    "force_c = 1\n",
    "\n",
    "num_steps = 20\n",
    "angle = np.linspace(0,3.14*0.5,num_steps)\n",
    "\n",
    "moment_b = np.zeros(num_steps)\n",
    "force_b_y1 = np.zeros(num_steps)\n",
    "force_b_out_xs = np.zeros((num_steps,2))\n",
    "force_b_out_ys= np.zeros((num_steps,2))\n",
    "\n",
    "point_b_init = np.array([0.5,0])\n",
    "point_b_out_init = np.array([0.5,-0.25])\n",
    "point_d = np.array([0.5, -2])\n",
    "\n",
    "rotation = np.zeros((2,2))\n",
    "for i, alpha in enumerate(angle):\n",
    "    moment_b[i] = force_c * np.cos (alpha) * length_c\n",
    "    force_b_y1[i] = moment_b[i] / length_b\n",
    "\n",
    "    rotation[0,0] = np.cos(alpha)\n",
    "    rotation[0,1] = -np.sin(alpha)\n",
    "    rotation[1,0] = np.sin(alpha)\n",
    "    rotation[1,1] = np.cos(alpha)\n",
    "    \n",
    "    point_b = rotation.dot(point_b_init)\n",
    "    point_b_out = rotation.dot(point_b_out_init)\n",
    "                           \n",
    "    vector_db = point_d - point_b_out\n",
    "    \n",
    "    dv_unit = vector_db / np.linalg.norm(vector_db)\n",
    "    perpendicular_dv_unit = np.array([-dv_unit[1], dv_unit[0]])\n",
    "    force_b = force_b_y1[i] * ((point_b-point_b_out) / np.linalg.norm(point_b-point_b_out))\n",
    "    force_b_out_xs[i] = np.dot(force_b, dv_unit) * dv_unit\n",
    "    force_b_out_ys[i] = np.dot(force_b, perpendicular_dv_unit) * perpendicular_dv_unit\n",
    "\n",
    "plt.plot(np.linalg.norm(force_b_out_xs))\n",
    "print(force_b_out_xs)"
   ]
  },
  {
   "cell_type": "code",
   "execution_count": 157,
   "metadata": {},
   "outputs": [
    {
     "ename": "SyntaxError",
     "evalue": "unexpected EOF while parsing (<ipython-input-157-5b9690161ab6>, line 1)",
     "output_type": "error",
     "traceback": [
      "\u001b[0;36m  File \u001b[0;32m\"<ipython-input-157-5b9690161ab6>\"\u001b[0;36m, line \u001b[0;32m1\u001b[0m\n\u001b[0;31m    print( np.zeros((2,2))\u001b[0m\n\u001b[0m                          ^\u001b[0m\n\u001b[0;31mSyntaxError\u001b[0m\u001b[0;31m:\u001b[0m unexpected EOF while parsing\n"
     ]
    }
   ],
   "source": []
  },
  {
   "cell_type": "code",
   "execution_count": null,
   "metadata": {},
   "outputs": [],
   "source": []
  }
 ],
 "metadata": {
  "kernelspec": {
   "display_name": "Python 3",
   "language": "python",
   "name": "python3"
  },
  "language_info": {
   "codemirror_mode": {
    "name": "ipython",
    "version": 3
   },
   "file_extension": ".py",
   "mimetype": "text/x-python",
   "name": "python",
   "nbconvert_exporter": "python",
   "pygments_lexer": "ipython3",
   "version": "3.8.1"
  }
 },
 "nbformat": 4,
 "nbformat_minor": 4
}
