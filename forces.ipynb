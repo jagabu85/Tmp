{
 "cells": [
  {
   "cell_type": "code",
   "execution_count": null,
   "metadata": {},
   "outputs": [
    {
     "name": "stdout",
     "output_type": "stream",
     "text": [
      "---------------------------------------------------- Start\n",
      "Point definitions\n",
      "Define froces in points\n",
      "Define discretization\n"
     ]
    },
    {
     "data": {
      "image/png": "[encoded data removed]",
      "text/plain": [
       "<Figure size 432x288 with 1 Axes>"
      ]
     },
     "metadata": {
      "needs_background": "light"
     },
     "output_type": "display_data"
    },
    {
     "data": {
      "image/png": "[encoded data removed]",
      "text/plain": [
       "<Figure size 432x288 with 1 Axes>"
      ]
     },
     "metadata": {
      "needs_background": "light"
     },
     "output_type": "display_data"
    }
   ],
   "source": [
    "import numpy as np\n",
    "from matplotlib import pyplot as plt\n",
    "from matplotlib.animation import FuncAnimation\n",
    "\n",
    "def compute_rotation_matrix(angle):\n",
    "    rotation = np.zeros((2,2))\n",
    "\n",
    "    rotation[0,0] = np.cos(angle)\n",
    "    rotation[0,1] = -np.sin(angle)\n",
    "    rotation[1,0] = np.sin(angle)\n",
    "    rotation[1,1] = np.cos(angle)\n",
    "\n",
    "    return rotation\n",
    "\n",
    "\n",
    "\n",
    "print(\"---------------------------------------------------- Start\")\n",
    "print(\"Point definitions\")\n",
    "a_0 = np.array([0,          0])\n",
    "b_0 = np.array([62.5,       0])\n",
    "c_0 = np.array([469.49,     0])\n",
    "d_0 = np.array([469.49, 19.01])\n",
    "e_0 = np.array([62.5,   -62.5])\n",
    "f_0 = np.array([56,      -374])\n",
    "\n",
    "print(\"Define froces in points\")\n",
    "force_d = np.array([0, 85*1.6*9.81])\n",
    "\n",
    "print(\"Define discretization\")\n",
    "num_steps = 150\n",
    "angle = np.linspace(0,3.14*0.55,num_steps)\n",
    "\n",
    "force_e = np.zeros((num_steps, 2))\n",
    "\n",
    "for i, alpha in enumerate(angle):\n",
    "    rotation = compute_rotation_matrix(alpha)\n",
    "\n",
    "    d = rotation.dot(d_0)\n",
    "    e = rotation.dot(e_0)\n",
    "    e_unit = e /  np.linalg.norm(e)\n",
    "\t\n",
    "    fe = e - f_0\n",
    "    fe_unit = fe /  np.linalg.norm(fe)\n",
    " \n",
    "    sin_theta = np.cross(e_unit, fe_unit)\n",
    "\n",
    "    force_e_norm = (np.cross(d,force_d))/ (np.linalg.norm(e)*sin_theta)\n",
    "    force_e[i] =force_e_norm * fe_unit\n",
    "\n",
    "\n",
    "# Plot force by components X and Y at point e\n",
    "#plt.rc('text', usetex=True)\n",
    "#plt.rc('font', family='serif')\n",
    "fig, ax1 = plt.subplots()\n",
    "plt.plot(angle, force_e[:,0], label='x')\n",
    "plt.plot(angle, force_e[:,1], label='y')\n",
    "norm_force_e = np.zeros((num_steps,1))\n",
    "for i, force in enumerate(force_e):\n",
    "    norm_force_e[i] = np.linalg.norm(force)\n",
    "plt.plot(angle, norm_force_e, label='norm')\n",
    "ax1.set_ylabel('Force N')\n",
    "ax1.set_xlabel('Angle in rad')\n",
    "plt.legend()\n",
    "plt.savefig('forces_norm.pdf')\n",
    "plt.show()\n",
    "\n",
    "\n",
    "# Start animation\n",
    "fig2, ax = plt.subplots()\n",
    "ax.set_xlim(np.min(force_e[:,1]), np.max(force_e[:,1]))\n",
    "ax.set_ylim(np.min(force_e[:,1]), np.max(force_e[:,1]))\n",
    "ax.set_xlim(-500, 500)\n",
    "ax.set_ylim(-500, 500)\n",
    "angle_template = r'angle = %.3f $^\\circ$'\n",
    "angle_text = ax.text(0.75, 0.9, '', transform=ax.transAxes)\n",
    "\n",
    "xdata = np.zeros((1,2))\n",
    "ydata = np.zeros((1,2))\n",
    "line_force_e, = plt.plot([], [], '-r', linewidth = 4)\n",
    "\n",
    "data = np.zeros((2,5))\n",
    "body, = plt.plot([], [], '-ko', markersize = 4, linewidth = 2)\n",
    "\n",
    "data2 = np.zeros((2,2))\n",
    "data2[0,0] = f_0[0]\n",
    "data2[1,0] = f_0[1]\n",
    "spindle, = plt.plot([], [], '--bo', linewidth = 1)\n",
    "\n",
    "\n",
    "def init():\n",
    "    body.set_data([],[])\n",
    "    line_force_e.set_data([],[])\n",
    "    angle_text.set_text('')\n",
    "    return \n",
    "\n",
    "def update(i):\n",
    "    rotation = compute_rotation_matrix(angle[i])\n",
    "    data[0,0] = rotation.dot(a_0)[0]\n",
    "    data[0,1] = rotation.dot(d_0)[0]\n",
    "    data[0,2] = rotation.dot(c_0)[0]\n",
    "    data[0,3] = rotation.dot(e_0)[0]\n",
    "    data[0,4] = rotation.dot(a_0)[0]\n",
    "    \n",
    "    data[1,0] = rotation.dot(a_0)[1]\n",
    "    data[1,1] = rotation.dot(d_0)[1]\n",
    "    data[1,2] = rotation.dot(c_0)[1]\n",
    "    data[1,3] = rotation.dot(e_0)[1]\n",
    "    data[1,4] = rotation.dot(a_0)[1]\n",
    "\n",
    "    body.set_data(data[0], data[1])\n",
    "    # ------------------------------------------------------ \n",
    "\n",
    "    xdata[0,0] = rotation.dot(e_0)[0]\n",
    "    ydata[0,0] = rotation.dot(e_0)[1]\n",
    "\n",
    "    scale_force = 0.05\n",
    "    xdata[0,1] = force_e[i,0] * scale_force + rotation.dot(e_0)[0]\n",
    "    ydata[0,1] = force_e[i,1] * scale_force + rotation.dot(e_0)[1]\n",
    "    line_force_e.set_data(xdata, ydata)\n",
    "    # ------------------------------------------------------ \n",
    "    data2[0,1] = rotation.dot(e_0)[0]\n",
    "    data2[1,1] = rotation.dot(e_0)[1]\n",
    "    spindle.set_data(data2[0], data2[1])\n",
    "\n",
    "\n",
    "    angle_text.set_text(angle_template % np.degrees(angle[i]))\n",
    "    return \n",
    "\n",
    "ani = FuncAnimation(fig2, update, num_steps,\n",
    "                    init_func=init, interval=30, blit=False)\n",
    "plt.show()\n",
    "\n",
    "ani.save('force.gif', writer='imagemagick')\n",
    "\n"
   ]
  },
  {
   "cell_type": "code",
   "execution_count": null,
   "metadata": {},
   "outputs": [],
   "source": []
  }
 ],
 "metadata": {
  "kernelspec": {
   "display_name": "Python 3",
   "language": "python",
   "name": "python3"
  },
  "language_info": {
   "codemirror_mode": {
    "name": "ipython",
    "version": 3
   },
   "file_extension": ".py",
   "mimetype": "text/x-python",
   "name": "python",
   "nbconvert_exporter": "python",
   "pygments_lexer": "ipython3",
   "version": "3.8.1"
  }
 },
 "nbformat": 4,
 "nbformat_minor": 4
}
