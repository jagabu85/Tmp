{
 "cells": [
  {
   "cell_type": "code",
   "execution_count": 117,
   "metadata": {},
   "outputs": [
    {
     "name": "stdout",
     "output_type": "stream",
     "text": [
      "1.0\n",
      "0.9999999999999999\n",
      "0.9999999999999999\n",
      "0.9999999999999999\n",
      "1.0\n",
      "0.9999999999999999\n",
      "0.9999999999999999\n",
      "0.9999999999999999\n",
      "1.0\n",
      "1.0\n",
      "1.0\n",
      "1.0\n",
      "1.0\n",
      "1.0\n",
      "0.9999999999999999\n",
      "1.0\n",
      "1.0\n",
      "1.0\n",
      "1.0\n",
      "0.9999999999999999\n"
     ]
    }
   ],
   "source": [
    "import numpy as np\n",
    "import matplotlib.pyplot as plt\n",
    "# F means force\n",
    "length_b = 0.5\n",
    "length_c = 1\n",
    "force_c = 1\n",
    "\n",
    "num_steps = 20\n",
    "angle = np.linspace(0,3.14*0.5,num_steps)\n",
    "moment_b = np.zeros(num_steps)\n",
    "force_y1 = np.zeros(num_steps)\n",
    "\n",
    "point_b_init = np.array([0.5,0])\n",
    "point_b_out_init = np.array([0.5,-0.25])\n",
    "point_d = np.array([0.5, -2])\n",
    "\n",
    "rotation = np.zeros((2,2))\n",
    "for i, alpha in enumerate(angle):\n",
    "    moment_b[i] = force_c * np.cos (alpha) * length_c\n",
    "    force_y1[i] = moment_b[i] / length_b\n",
    "\n",
    "    rotation[0,0] = np.cos(alpha)\n",
    "    rotation[0,1] = -np.sin(alpha)\n",
    "    rotation[1,0] = np.sin(alpha)\n",
    "    rotation[1,1] = np.cos(alpha)\n",
    "    \n",
    "    point_b = rotation.dot(point_b_init)\n",
    "    point_b_out = rotation.dot(point_b_out_init)\n",
    "                           \n",
    "    vector_db = point_d - point_b_out\n",
    "    \n",
    "    dv_unit = vector_db / np.linalg.norm(vector_db)\n"
   ]
  },
  {
   "cell_type": "code",
   "execution_count": 79,
   "metadata": {},
   "outputs": [
    {
     "name": "stdout",
     "output_type": "stream",
     "text": [
      "1.4142135623730951\n"
     ]
    }
   ],
   "source": [
    "point_d = np.array([1, 1])\n",
    "\n",
    "rotation = np.zeros((2,2))\n",
    "\n",
    "print(np.linalg.norm(point_d\n",
    "        ))"
   ]
  },
  {
   "cell_type": "code",
   "execution_count": 54,
   "metadata": {},
   "outputs": [
    {
     "data": {
      "text/plain": [
       "[<matplotlib.lines.Line2D at 0x7fdb98365ca0>]"
      ]
     },
     "execution_count": 54,
     "metadata": {},
     "output_type": "execute_result"
    },
    {
     "data": {
      "image/png": "[encoded data removed]",
      "text/plain": [
       "<Figure size 432x288 with 1 Axes>"
      ]
     },
     "metadata": {
      "needs_background": "light"
     },
     "output_type": "display_data"
    }
   ],
   "source": []
  },
  {
   "cell_type": "code",
   "execution_count": null,
   "metadata": {},
   "outputs": [],
   "source": []
  }
 ],
 "metadata": {
  "kernelspec": {
   "display_name": "Python 3",
   "language": "python",
   "name": "python3"
  },
  "language_info": {
   "codemirror_mode": {
    "name": "ipython",
    "version": 3
   },
   "file_extension": ".py",
   "mimetype": "text/x-python",
   "name": "python",
   "nbconvert_exporter": "python",
   "pygments_lexer": "ipython3",
   "version": "3.8.1"
  }
 },
 "nbformat": 4,
 "nbformat_minor": 4
}
